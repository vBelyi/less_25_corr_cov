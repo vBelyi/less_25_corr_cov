{
 "cells": [
  {
   "cell_type": "markdown",
   "id": "97b84973",
   "metadata": {},
   "source": [
    "## Обчислити очікувану норму прибутку по кожній з акцій"
   ]
  },
  {
   "cell_type": "code",
   "execution_count": 50,
   "id": "069e52b8",
   "metadata": {},
   "outputs": [
    {
     "data": {
      "text/plain": [
       "2.6999999999999997"
      ]
     },
     "execution_count": 50,
     "metadata": {},
     "output_type": "execute_result"
    }
   ],
   "source": [
    "# Очікувана норма прибутку акції X:\n",
    "E_X = (10 * 0.1) + (5 *0.3) + (2 * 0.2) + (1 * 0.3) + (-5 * 0.1)\n",
    "E_X"
   ]
  },
  {
   "cell_type": "code",
   "execution_count": 51,
   "id": "59ebc09f",
   "metadata": {},
   "outputs": [
    {
     "data": {
      "text/plain": [
       "4.000000000000001"
      ]
     },
     "execution_count": 51,
     "metadata": {},
     "output_type": "execute_result"
    }
   ],
   "source": [
    "# Очікувана норма прибутку акції Y:\n",
    "E_Y = (20 * 0.1) + (10 * 0.3) + (2 * 0.2) + (-2 * 0.3) + (-8 * 0.1)\n",
    "E_Y"
   ]
  },
  {
   "cell_type": "code",
   "execution_count": 52,
   "id": "81a33950",
   "metadata": {},
   "outputs": [
    {
     "data": {
      "text/plain": [
       "True"
      ]
     },
     "execution_count": 52,
     "metadata": {},
     "output_type": "execute_result"
    }
   ],
   "source": [
    "#Згідно розрахунків, очікувана норма прибутку менша в акцій X, тому акції Y є більш прибутковими\n",
    "E_X < E_Y "
   ]
  },
  {
   "cell_type": "markdown",
   "id": "0e9226e6",
   "metadata": {},
   "source": [
    "## Оцінити ступінь ризику обох акцій за допомогою середньоквадратичного відхилення"
   ]
  },
  {
   "cell_type": "code",
   "execution_count": 53,
   "id": "9ffdd2ea",
   "metadata": {},
   "outputs": [
    {
     "data": {
      "text/plain": [
       "3.7161808352124095"
      ]
     },
     "execution_count": 53,
     "metadata": {},
     "output_type": "execute_result"
    }
   ],
   "source": [
    "#знаходимо середньоквадратичне відхилення для акцій X\n",
    "dispersion_x = (((10 - E_X) ** 2)*0.1) + (((5- E_X) ** 2)*0.3) + (((2- E_X) ** 2)*0.2) + (((1 - E_X) ** 2)*0.3) + ((((-5)- E_X) **2)*0.1)\n",
    "deviation_x = dispersion_x ** 0.5\n",
    "deviation_x"
   ]
  },
  {
   "cell_type": "code",
   "execution_count": 54,
   "id": "a3c499b9",
   "metadata": {},
   "outputs": [
    {
     "data": {
      "text/plain": [
       "7.8993670632526"
      ]
     },
     "execution_count": 54,
     "metadata": {},
     "output_type": "execute_result"
    }
   ],
   "source": [
    "#знаходимо середньоквадратичне відхилення для акцій Y\n",
    "dispersion_y = (((20 - E_Y) ** 2)*0.1) + (((10 - E_Y) ** 2)*0.3) + (((2 - E_Y) ** 2)*0.2) + ((((-2)- E_Y) ** 2)*0.3) + ((((-8)- E_Y) **2)*0.1)\n",
    "deviation_y = dispersion_y **0.5\n",
    "deviation_y"
   ]
  },
  {
   "cell_type": "code",
   "execution_count": 55,
   "id": "56b1d87f",
   "metadata": {},
   "outputs": [
    {
     "data": {
      "text/plain": [
       "True"
      ]
     },
     "execution_count": 55,
     "metadata": {},
     "output_type": "execute_result"
    }
   ],
   "source": [
    "#Отже згідно розрахунків, ступінь ризику акцій Y э вищим ніж у акцій X\n",
    "deviation_y > deviation_x"
   ]
  },
  {
   "cell_type": "markdown",
   "id": "0027ae86",
   "metadata": {},
   "source": [
    "## Проаналізувати наявність зв'язку між акціями X та Y за допомогою коефіцієнтів коваріації та кореляції"
   ]
  },
  {
   "cell_type": "code",
   "execution_count": 56,
   "id": "386d5ea1",
   "metadata": {},
   "outputs": [],
   "source": [
    "#Обчислюємо коеф. коваріації\n",
    "cov = ((10-E_X)*0.1 + (5-E_X)*0.3 + (2-E_X)*0.2 +(1-E_X)*0.3 + (-5-E_X)*0.1)/((20-E_Y)*0.1+(10-E_Y)*0.3+(2-E_Y)*0.2+(-2-E_Y)*0.3+(-8-E_Y)*0.1)"
   ]
  },
  {
   "cell_type": "code",
   "execution_count": 57,
   "id": "83472124",
   "metadata": {},
   "outputs": [
    {
     "data": {
      "text/plain": [
       "-0.25"
      ]
     },
     "execution_count": 57,
     "metadata": {},
     "output_type": "execute_result"
    }
   ],
   "source": [
    "cov"
   ]
  },
  {
   "cell_type": "code",
   "execution_count": 58,
   "id": "99d84d21",
   "metadata": {},
   "outputs": [],
   "source": [
    "#Обчислюємо коеф кореляції\n",
    "corr = cov / (deviation_x *deviation_y)"
   ]
  },
  {
   "cell_type": "code",
   "execution_count": 59,
   "id": "ecb18453",
   "metadata": {},
   "outputs": [
    {
     "data": {
      "text/plain": [
       "-0.008516298486199914"
      ]
     },
     "execution_count": 59,
     "metadata": {},
     "output_type": "execute_result"
    }
   ],
   "source": [
    "#Приближене до 0 значення коефіцієнта кореляції вказує на те, що зв'язку між очікуваними прибутками акцій X та Y майже немає\n",
    "corr"
   ]
  }
 ],
 "metadata": {
  "kernelspec": {
   "display_name": "Python 3 (ipykernel)",
   "language": "python",
   "name": "python3"
  },
  "language_info": {
   "codemirror_mode": {
    "name": "ipython",
    "version": 3
   },
   "file_extension": ".py",
   "mimetype": "text/x-python",
   "name": "python",
   "nbconvert_exporter": "python",
   "pygments_lexer": "ipython3",
   "version": "3.9.13"
  }
 },
 "nbformat": 4,
 "nbformat_minor": 5
}
