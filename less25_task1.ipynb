{
 "cells": [
  {
   "cell_type": "code",
   "execution_count": 85,
   "id": "31a73d33",
   "metadata": {},
   "outputs": [],
   "source": [
    "import pandas as pd\n",
    "import math"
   ]
  },
  {
   "cell_type": "code",
   "execution_count": 86,
   "id": "6f2ad28c",
   "metadata": {},
   "outputs": [],
   "source": [
    "# ймовірність того, що деталь буде бракованою (якщо 0.6 стандартна, то бракована 1 - 0.6 = 0.4)\n",
    "p = 0.4"
   ]
  },
  {
   "cell_type": "code",
   "execution_count": 87,
   "id": "dc31f820",
   "metadata": {},
   "outputs": [],
   "source": [
    "# кількість деталей, які перевіряються\n",
    "n = 3"
   ]
  },
  {
   "cell_type": "code",
   "execution_count": 88,
   "id": "2dd89a3b",
   "metadata": {},
   "outputs": [],
   "source": [
    "result = []\n",
    "for i in range(n+1):\n",
    "    for j in range(n+1):\n",
    "        if i+j == n:\n",
    "            x = i\n",
    "            y = j\n",
    "            p_xy = math.comb(n, i) * p**i * (1-p)**(n-i)\n",
    "            result.append([x, y, p_xy])"
   ]
  },
  {
   "cell_type": "code",
   "execution_count": 89,
   "id": "ff710153",
   "metadata": {},
   "outputs": [
    {
     "data": {
      "text/plain": [
       "[[0, 3, 0.21599999999999997],\n",
       " [1, 2, 0.43200000000000005],\n",
       " [2, 1, 0.28800000000000003],\n",
       " [3, 0, 0.06400000000000002]]"
      ]
     },
     "execution_count": 89,
     "metadata": {},
     "output_type": "execute_result"
    }
   ],
   "source": [
    "result"
   ]
  },
  {
   "cell_type": "code",
   "execution_count": 90,
   "id": "4833b35e",
   "metadata": {},
   "outputs": [],
   "source": [
    "my_df = pd.DataFrame(result,columns=[ 'x', 'y', 'p(x,y)'])"
   ]
  },
  {
   "cell_type": "code",
   "execution_count": 91,
   "id": "4c1e4cad",
   "metadata": {},
   "outputs": [
    {
     "data": {
      "text/html": [
       "<div>\n",
       "<style scoped>\n",
       "    .dataframe tbody tr th:only-of-type {\n",
       "        vertical-align: middle;\n",
       "    }\n",
       "\n",
       "    .dataframe tbody tr th {\n",
       "        vertical-align: top;\n",
       "    }\n",
       "\n",
       "    .dataframe thead th {\n",
       "        text-align: right;\n",
       "    }\n",
       "</style>\n",
       "<table border=\"1\" class=\"dataframe\">\n",
       "  <thead>\n",
       "    <tr style=\"text-align: right;\">\n",
       "      <th></th>\n",
       "      <th>x</th>\n",
       "      <th>y</th>\n",
       "      <th>p(x,y)</th>\n",
       "    </tr>\n",
       "  </thead>\n",
       "  <tbody>\n",
       "    <tr>\n",
       "      <th>0</th>\n",
       "      <td>0</td>\n",
       "      <td>3</td>\n",
       "      <td>0.216</td>\n",
       "    </tr>\n",
       "    <tr>\n",
       "      <th>1</th>\n",
       "      <td>1</td>\n",
       "      <td>2</td>\n",
       "      <td>0.432</td>\n",
       "    </tr>\n",
       "    <tr>\n",
       "      <th>2</th>\n",
       "      <td>2</td>\n",
       "      <td>1</td>\n",
       "      <td>0.288</td>\n",
       "    </tr>\n",
       "    <tr>\n",
       "      <th>3</th>\n",
       "      <td>3</td>\n",
       "      <td>0</td>\n",
       "      <td>0.064</td>\n",
       "    </tr>\n",
       "  </tbody>\n",
       "</table>\n",
       "</div>"
      ],
      "text/plain": [
       "   x  y  p(x,y)\n",
       "0  0  3   0.216\n",
       "1  1  2   0.432\n",
       "2  2  1   0.288\n",
       "3  3  0   0.064"
      ]
     },
     "execution_count": 91,
     "metadata": {},
     "output_type": "execute_result"
    }
   ],
   "source": [
    "my_df"
   ]
  },
  {
   "cell_type": "code",
   "execution_count": 92,
   "id": "45def8df",
   "metadata": {},
   "outputs": [],
   "source": [
    "# знаходимо середні значення для стандартних та бракованих деталей\n",
    "e_x = sum(x_i * p_i for x_i, p_i in zip(my_df['x'], my_df['p(x,y)']))\n",
    "e_y = sum(y_i * p_i for y_i, p_i in zip(my_df['y'], my_df['p(x,y)']))"
   ]
  },
  {
   "cell_type": "code",
   "execution_count": 93,
   "id": "faac43a2",
   "metadata": {},
   "outputs": [],
   "source": [
    "# знаходимо коеф коваріації xy\n",
    "cov_xy = ((my_df['x'] - e_x)*(my_df['y'] - e_y) * my_df['p(x,y)']).sum()"
   ]
  },
  {
   "cell_type": "code",
   "execution_count": 94,
   "id": "1e08e253",
   "metadata": {},
   "outputs": [],
   "source": [
    "# знаходимо стандартні відхилення випадкових величин\n",
    "std_x = math.sqrt(sum((x_i - e_x)**2 * p_i for x_i, p_i in zip(my_df['x'], my_df['p(x,y)'])))\n",
    "std_y = math.sqrt(sum((y_i - e_y)**2 * p_i for y_i, p_i in zip(my_df['y'], my_df['p(x,y)'])))"
   ]
  },
  {
   "cell_type": "code",
   "execution_count": 95,
   "id": "afdfd390",
   "metadata": {},
   "outputs": [],
   "source": [
    "# знаходимо коеф кореляції xy\n",
    "corr_xy = cov_xy / (std_x * std_y)"
   ]
  },
  {
   "cell_type": "code",
   "execution_count": 96,
   "id": "4eead792",
   "metadata": {},
   "outputs": [
    {
     "data": {
      "text/plain": [
       "-0.9999999999999999"
      ]
     },
     "execution_count": 96,
     "metadata": {},
     "output_type": "execute_result"
    }
   ],
   "source": [
    "corr_xy"
   ]
  },
  {
   "cell_type": "code",
   "execution_count": 97,
   "id": "4d83295c",
   "metadata": {},
   "outputs": [
    {
     "data": {
      "text/plain": [
       "-0.72"
      ]
     },
     "execution_count": 97,
     "metadata": {},
     "output_type": "execute_result"
    }
   ],
   "source": [
    "cov_xy"
   ]
  }
 ],
 "metadata": {
  "kernelspec": {
   "display_name": "Python 3 (ipykernel)",
   "language": "python",
   "name": "python3"
  },
  "language_info": {
   "codemirror_mode": {
    "name": "ipython",
    "version": 3
   },
   "file_extension": ".py",
   "mimetype": "text/x-python",
   "name": "python",
   "nbconvert_exporter": "python",
   "pygments_lexer": "ipython3",
   "version": "3.9.13"
  }
 },
 "nbformat": 4,
 "nbformat_minor": 5
}
